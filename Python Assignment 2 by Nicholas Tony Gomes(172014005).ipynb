{
 "cells": [
  {
   "cell_type": "markdown",
   "metadata": {},
   "source": [
    "\n",
    "\n",
    "***Question 1: \n",
    "Write a program that repeatedly asks the user to enter product names and prices. Store all of these in a dictionary whose keys are the product names and whose values are the prices. When the user is done entering products and prices, allow them to repeatedly enter a product name and print the corresponding price or a message if the product is not in the dictionary***"
   ]
  },
  {
   "cell_type": "code",
   "execution_count": null,
   "metadata": {},
   "outputs": [],
   "source": [
    "stuff = {\n",
    "        \n",
    "    }\n",
    "while(True):\n",
    "    \n",
    "    x = input(\"Enter Product Name or press wq to exit\\n\")\n",
    "    if(x == \"wq\"):\n",
    "\t\t\n",
    "        break\n",
    "    else:\n",
    "        y = float(input(\"Enter product Price\\n\"))\n",
    "        stuff[x] = y\n",
    "\t\t\t\n",
    "while(True):\n",
    "\tz = input(\"Enter the product name you want to find or press wq to quit\\n\")\n",
    "\tif(z == \"wq\"):\n",
    "\t\n",
    "\t\tbreak\n",
    "\telse:\n",
    "\t\tif z in stuff:\n",
    "\t\t\tprint(z)\n",
    "\t\t\tprint(\"The price of \"+z+\" is \" +str(stuff[z]))\n",
    "\t\telse:\n",
    "\t\t\tprint(z+\" is not a product you entered\\n\")\n",
    "\t\t\n",
    "        \n"
   ]
  },
  {
   "cell_type": "markdown",
   "metadata": {},
   "source": [
    "***Question 2: \n",
    "Using the dictionary created in the previous problem, allow the user to enter a dollar amount and print out all the products whose price is less than that amount.***"
   ]
  },
  {
   "cell_type": "code",
   "execution_count": null,
   "metadata": {},
   "outputs": [],
   "source": [
    "stuff = {\n",
    "        \n",
    "    }\n",
    "while(True):\n",
    "    \n",
    "    x = input(\"Enter Product Name or press wq to exit\\n\")\n",
    "    if(x == \"wq\"):\n",
    "\t\t\n",
    "        break\n",
    "    else:\n",
    "        y = float(input(\"Enter product Price\\n\"))\n",
    "        stuff[x] = y\n",
    "\t\t\n",
    "\n",
    "\n",
    "while(True):\n",
    "\tz = input(\"Enter the price of the product  you want to find or press wq to quit\\n\")\n",
    "\tif(z == \"wq\"):\n",
    "\t\n",
    "\t\tbreak\n",
    "\telse:\n",
    "\t\tfor i in stuff:\n",
    "\t\t\tif(stuff[i]<float(z)):\n",
    "\t\t\t\tprint(\"\\nThe price of \"+i+\" is \"+ str(stuff[i])+\" Dollars\\n\")"
   ]
  },
  {
   "cell_type": "markdown",
   "metadata": {},
   "source": [
    "***Question 3: Write a program that uses a dictionary that contains ten user names and passwords. The program should ask the user to enter their username and password. If the username is not in the dictionary, the program should indicate that the person is not a valid user of the system. If the username is in the dictionary, but the user does not enter the right password, the program should say that the password is invalid. If the password is correct, then the program should tell the user that they are now logged in to the system.***"
   ]
  },
  {
   "cell_type": "code",
   "execution_count": null,
   "metadata": {},
   "outputs": [],
   "source": [
    "dataBase = {\n",
    "    'tonygms2@gmail.com':'abc1234',\n",
    "    'nicholas.gomes.cse@ulab.edu.bd':'abc213',\n",
    "    'jcholewa@live.com':'this is a password',\n",
    "    'iamcal@mac.com':'anotherPassword',\n",
    "    'multiplx@hotmail.com':'python',\n",
    "    'bmcmahon@icloud.com':'iphoneIsApple',\n",
    "    'jramio@yahoo.com':'yahoomailisdown',\n",
    "    'leakin@aol.com':'thisAssignmentSucks',\n",
    "    'meinkej@aol.com':'PythonRocks',\n",
    "    'cosimo@optonline.net':'semesterBreak'\n",
    "    \n",
    "    \n",
    "}\n",
    "\n",
    "email = input(\"Enter Your email\\n\")\n",
    "\n",
    "if email in dataBase:\n",
    "    password = input(\"Enter the password\\n\")\n",
    "    if password in dataBase[email]:\n",
    "        print(\"You are logged in to the system\\n\")\n",
    "    else:\n",
    "        print(\"Wrong Password!!\\n\")\n",
    "else:\n",
    "    print(\"The email is not in the system\\n\")\n",
    "\n",
    "\n"
   ]
  },
  {
   "cell_type": "markdown",
   "metadata": {},
   "source": [
    "***Question 4: Using the card dictionary from earlier in this chapter, create a simple card game that deals two players three cards each. The player with the highest card wins. If there is a tie, then compare the second highest card and, if necessary, the third highest. If all three cards have the same value, then the game is a draw.***"
   ]
  },
  {
   "cell_type": "code",
   "execution_count": 23,
   "metadata": {},
   "outputs": [
    {
     "name": "stdout",
     "output_type": "stream",
     "text": [
      "Player One:\n",
      "{' value ': 11, ' suit ': ' diamonds '}\n",
      "{' value ': 10, ' suit ': ' clubs '}\n",
      "{' value ': 10, ' suit ': ' hearts '}\n",
      "[11, 10, 10]\n",
      "\n",
      "Player Two:\n",
      "{' value ': 4, ' suit ': ' hearts '}\n",
      "{' value ': 11, ' suit ': ' spades '}\n",
      "{' value ': 7, ' suit ': ' spades '}\n",
      "[4, 11, 7]\n",
      "\n",
      "Highest Value of Player One  11\n",
      "\n",
      "Higest Value of Player Two:  11\n",
      "\n",
      "Game Tie\n",
      "\n"
     ]
    }
   ],
   "source": [
    "import random\n",
    "import operator\n",
    "deck = [{ ' value ' :i, ' suit ' :c}\n",
    "for c in [ ' spades ' , ' clubs ' , ' hearts ' , ' diamonds ' ]\n",
    "for i in range(2,15)]\n",
    "deck1 = {}\n",
    "deck2 = {}\n",
    "arr1 = [None]*3\n",
    "arr2 = [None]*3\n",
    "\n",
    "random.shuffle(deck)\n",
    "#for player one\n",
    "print(\"Player One:\")\n",
    "for i in range(0,3):\n",
    "    deck1 = deck[i]\n",
    "    print(deck[i])\n",
    "    x = max(deck1)\n",
    "    arr1[i] = deck1[x]\n",
    "\n",
    "print(arr1)    \n",
    "print(\"\\nPlayer Two:\")\n",
    "#for player two\n",
    "\n",
    "random.shuffle(deck)\n",
    "for i in range(0,3):\n",
    "    deck2 = deck[i]\n",
    "    print(deck[i])\n",
    "    y = max(deck2)\n",
    "    arr2[i] = deck2[y]\n",
    "    \n",
    "print(arr2)\n",
    "\n",
    "firstMax = max(arr1)\n",
    "seccondMax = max(arr2)\n",
    "print(\"\\nHighest Value of Player One \",firstMax)\n",
    "print(\"\\nHigest Value of Player Two: \",seccondMax)\n",
    "if(firstMax==seccondMax):\n",
    "    print(\"\\nGame Tie\\n\")\n",
    "elif(firstMax>seccondMax):\n",
    "    print(\"\\nPlayer One won\\n\")\n",
    "elif(seccondMax>firstMax):\n",
    "    print(\"\\nPlayer Two Won\\n\")\n"
   ]
  },
  {
   "cell_type": "markdown",
   "metadata": {},
   "source": []
  },
  {
   "cell_type": "markdown",
   "metadata": {},
   "source": [
    "***Question 5: Dictionaries provide a convenient way to store structured data. Here is an example dictionary:\n",
    "d=[\n",
    "{ ' name ' : ' Todd ' , ' phone ' : ' 555-1414 ' , ' email ' : ' todd@mail.net ' },\n",
    "{ ' name ' : ' Helga ' , ' phone ' : ' 555-1618 ' , ' email ' : ' helga@mail.net ' },\n",
    "{ ' name ' : ' Princess ' , ' phone ' : ' 555-3141 ' , ' email ' : '' },\n",
    "{ ' name ' : ' LJ' , ' phone ' : ' 555-2718 ' , ' email ' : ' lj@mail.net ' }\n",
    "]\n",
    "Write a program that reads through any dictionary like this and prints the following:\n",
    "(a) All the users whose phone number ends in an 8\n",
    "(b) All the users that don’t have an email address listed***"
   ]
  },
  {
   "cell_type": "code",
   "execution_count": 3,
   "metadata": {},
   "outputs": [
    {
     "name": "stdout",
     "output_type": "stream",
     "text": [
      "Helga\n",
      "Princess\n"
     ]
    }
   ],
   "source": [
    "dict = [{'name' : 'Todd', 'phone' : '555-1414', 'email' : 'todd@gmail.com'},\n",
    "     {'name' : 'Helga', 'phone' : '555-1618', 'email' : 'helga@gmail.com'},\n",
    "     {'name' : 'Princess', 'phone' : '555-2716', 'email' : ' '},\n",
    "       ]\n",
    "\n",
    "\n",
    "for x in dict:\n",
    "    for y in x:\n",
    "        str = x.get('phone')\n",
    "        if str[len(str)-1] == '8':\n",
    "            print(x.get('name'))\n",
    "            break\n",
    "for x in dict:\n",
    "    for y in x:\n",
    "        str = x.get('email')\n",
    "        if str[len(str)-1] == ' ':\n",
    "            print(x.get('name'))\n",
    "            break"
   ]
  },
  {
   "cell_type": "markdown",
   "metadata": {},
   "source": [
    "***Question 6: Using the card dictionary from earlier in the chapter, deal out three cards. Determine the following: (a) If the three cards form a flush (all of the same suit) (b) If there is a three-of-a-kind (all of the same value) (c) If there is a pair, but not three-of-a-kind (d) If the three cards form a straight (all in a row, like (2, 3, 4) or (10, Jack, Queen))"
   ]
  },
  {
   "cell_type": "markdown",
   "metadata": {},
   "source": [
    "***Question 7: Below are the notes used in music: C C# D D# E F F# G G# A A# B The notes for the C major chord are C, E, G. A mathematical way to get this is that E is 4 steps past C and G is 7 steps past C. This works for any base. For example, the notes for D major are D, F#, A. We can represent the major chord steps as a list with two elements: [4,7] . The corresponding lists for some other chord types are shown below:\n",
    "***Minor [3,7]\n",
    "Augmented fifth [4,8]\n",
    "Minor fifth [4,6]\n",
    "Major sixth [4,7,9]\n",
    "Minor sixth [3,7,9]\n",
    "Dominant seventh [4,7,10]\n",
    "Minor seventh [3,7,10]\n",
    "Major seventh [4,7,11]\n",
    "Diminished seventh [3,6,10]\n",
    "\n",
    "***Write a program that asks the user for the key and the chord type and prints out the notes of\n",
    "the chord. Use a dictionary whose keys are the (musical) keys and whose values are the lists\n",
    "of steps."
   ]
  },
  {
   "cell_type": "markdown",
   "metadata": {},
   "source": [
    "***Question 8. Write a program that uses a while loop (not a for loop) to read through a string and print the characters of the string one-by-one on separate lines."
   ]
  },
  {
   "cell_type": "code",
   "execution_count": 4,
   "metadata": {},
   "outputs": [
    {
     "name": "stdout",
     "output_type": "stream",
     "text": [
      "Enter a string: Tony\n",
      "T\n",
      "\n",
      "o\n",
      "\n",
      "n\n",
      "\n",
      "y\n",
      "\n"
     ]
    }
   ],
   "source": [
    "user_str = input(\"Enter a string: \")\n",
    "\n",
    "i = 0\n",
    "while(i < len(user_str)):\n",
    "    print(\"{}\\n\".format(user_str[i]))\n",
    "    i+=1"
   ]
  },
  {
   "cell_type": "markdown",
   "metadata": {},
   "source": [
    "***Question 9: Modify the program above to print out every second character of the string."
   ]
  },
  {
   "cell_type": "code",
   "execution_count": null,
   "metadata": {},
   "outputs": [],
   "source": [
    "user_str = input(\"Enter a string: \")\n",
    "\n",
    "i = 1\n",
    "while(i < len(user_str)):\n",
    "    print(\"{}\\n\".format(user_str[i]))\n",
    "    i+=2"
   ]
  },
  {
   "cell_type": "markdown",
   "metadata": {},
   "source": [
    "***Question 10: Write a program that asks the user to enter a password. If the user enters the right password, the program should tell them they are logged in to the system. Otherwise, the program should ask them to reenter the password. The user should only get five tries to enter the password, after which point the program should tell them that they are kicked off of the system"
   ]
  },
  {
   "cell_type": "code",
   "execution_count": 5,
   "metadata": {},
   "outputs": [
    {
     "name": "stdout",
     "output_type": "stream",
     "text": [
      "Enter a password: abc\n",
      "Tries left : \t\n",
      "5\n",
      "Re-enter your password: abc\n",
      "Tries left : \t\n",
      "4\n",
      "Re-enter your password: abc\n",
      "Tries left : \t\n",
      "3\n",
      "Re-enter your password: abc\n",
      "Tries left : \t\n",
      "2\n",
      "Re-enter your password: abc\n",
      "Tries left : \t\n",
      "1\n",
      "Re-enter your password: ac\n",
      "You have been kicked out of the system !! \n"
     ]
    }
   ],
   "source": [
    "\n",
    "password = \"abc123\"\n",
    "\n",
    "for i in range(6):\n",
    "    if i == 0:\n",
    "        str = input(\"Enter a password: \")\n",
    "    else:\n",
    "        str = input(\"Re-enter your password: \")\n",
    "    \n",
    "    if str == password:\n",
    "        print(\"You are logged in !\")\n",
    "        break\n",
    "    else:\n",
    "        if 5- i > 0 :\n",
    "            x = 5 - i \n",
    "            print(\"Tries left : \\t\")\n",
    "            print(x)\n",
    "        \n",
    "        if i == 5:\n",
    "            print(\"You have been kicked out of the system !! \")\n"
   ]
  },
  {
   "cell_type": "markdown",
   "metadata": {},
   "source": [
    "***Question 11: Recall that, given a string s , s.index( ' x ' ) returns the index of the first x in s and an error if there is no x.\n",
    "(a) Write a program that asks the user for a string and a letter. Using a while loop, the program should print\n",
    "the index of the first occurrence of that letter and a message if the string does not contain the letter.\n",
    "(b) Write the above program using a for/break loop instead of a while loop."
   ]
  },
  {
   "cell_type": "code",
   "execution_count": 6,
   "metadata": {},
   "outputs": [
    {
     "name": "stdout",
     "output_type": "stream",
     "text": [
      "Enter a string. Add a space and then enter the number whose position in the string you want : as as\n",
      "Position [starting index = 0] : \n",
      "1\n"
     ]
    }
   ],
   "source": [
    "i = 0\n",
    "str = input(\"Enter a string. Add a space and then enter the number whose position in the string you want : \")\n",
    "\n",
    "while i < len(str)-2:\n",
    "    if str[i] == str[len(str) - 1]:\n",
    "        print (\"Position [starting index = 0] : \")\n",
    "        print(i)\n",
    "        break\n",
    "    i+=1\n",
    "    \n",
    "if i == len(str)-2:\n",
    "    print(\"No \\'{}\\' found on this string\". format(str[len(str) - 1]))\n"
   ]
  },
  {
   "cell_type": "code",
   "execution_count": null,
   "metadata": {},
   "outputs": [],
   "source": [
    "i = 0\n",
    "str = input(\"Enter a string. Add a space and then enter the number whose position in the string you want : \")\n",
    "\n",
    "for i in range(len(str)-2):\n",
    "    if str[i] == str[len(str) - 1]:\n",
    "        print (\"Position [starting index = 0] : \")\n",
    "        print(i)\n",
    "        break\n",
    "    i+=1\n",
    "    \n",
    "if i == len(str)-2:\n",
    "    print(\"No \\'{}\\' found on this string\". format(str[len(str) - 1]))"
   ]
  },
  {
   "cell_type": "markdown",
   "metadata": {},
   "source": [
    "***Question 12: The GCD (greatest common divisor) of two numbers is the largest number that both are di- visible by. For instance, gcd (18, 42) is 6 because the largest number that both 18 and 42 are divisible by is 6. Write a program that asks the user for two numbers and computes their gcd. Shown below is a way to compute the GCD, called Euclid’s Algorithm.• First compute the remainder of dividing the larger number by the smaller number• Next, replace the larger number with the smaller number and the smaller number with the remainder.• Repeat this process until the smaller number is 0. The GCD is the last value of the larger number."
   ]
  },
  {
   "cell_type": "code",
   "execution_count": 7,
   "metadata": {},
   "outputs": [
    {
     "name": "stdout",
     "output_type": "stream",
     "text": [
      "18\n",
      "42\n",
      "Greatest common Divisor: \n",
      "6\n"
     ]
    }
   ],
   "source": [
    "num1 =int(input())\n",
    "num2 =int(input())\n",
    "\n",
    "x = 1\n",
    "gcd = 0\n",
    "\n",
    "while x <= num1 and x <= num2:\n",
    "    if num1 % x == 0 and num2 % x == 0:\n",
    "        gcd = x\n",
    "    x+=1\n",
    "print (\"Greatest common Divisor: \")\n",
    "print(gcd)"
   ]
  },
  {
   "cell_type": "markdown",
   "metadata": {},
   "source": [
    "***Question 13: A 4000-year old method to compute the square root of 5 is as follows: Start with an initial guess, say 1. Then compute (1 + 5/1 )/2 = 3 Next, take that 3 and replace the 1’s in the previous formula with 3’s . This gives (3 + 5/3 )/2 = 7/3 = 2.33 Next replace the 3 in the previous formula with 7/3 . This gives (7/3 + 5/(7/3) )/2 = 47/22 = 2.24.\n",
    "If you keep doing this process of computing the formula, getting a result, and plugging it back in, the values will eventually get closer and closer to 5 . This method works for numbers other than 5. Write a program that asks the user for a number and uses this method to estimate the square root of the number correct to within 10^( −10) . The estimate will be correct to within 10^( −10) when the absolute value of the difference between consecutive values is less than 10^(−10) ."
   ]
  },
  {
   "cell_type": "code",
   "execution_count": 8,
   "metadata": {},
   "outputs": [
    {
     "name": "stdout",
     "output_type": "stream",
     "text": [
      "12\n",
      "3.46\n"
     ]
    }
   ],
   "source": [
    "number = int(input())\n",
    "\n",
    "i = 1\n",
    "\n",
    "while i >= 0:\n",
    "    x = i\n",
    "    i = (i + number/i)/2\n",
    "    if x == i:\n",
    "        break\n",
    "print(\"%.2f\"%i)"
   ]
  },
  {
   "cell_type": "markdown",
   "metadata": {},
   "source": [
    "***Question 14: Write a program that starts with an 5 × 5 list of zeroes and randomly changes exactly ten of those zeroes to ones."
   ]
  },
  {
   "cell_type": "code",
   "execution_count": 9,
   "metadata": {},
   "outputs": [
    {
     "name": "stdout",
     "output_type": "stream",
     "text": [
      "0 0 0 1 0 \n",
      "0 0 1 0 0 \n",
      "0 1 0 0 0 \n",
      "1 0 0 0 0 \n",
      "0 0 0 1 0 \n"
     ]
    }
   ],
   "source": [
    "import random\n",
    "myList = []\n",
    "randomPosition = []\n",
    "\n",
    "for i in range(25):\n",
    "    myList.append(0)      # initial matrix of zeroes\n",
    "\n",
    "for i in range(10):\n",
    "    x = random.randrange(1, 25)\n",
    "    while randomPosition.count(x) != 0:\n",
    "        x = random.randrange(1, 25)\n",
    "    randomPosition.append(x)\n",
    "    myList[x] = 1\n",
    "    \n",
    "k = 0\n",
    "for i in range (5):\n",
    "    for j in range(5):\n",
    "        if i+j == randomPosition[k]:\n",
    "            print(myList[k], end=\" \")\n",
    "            k+=1\n",
    "            continue\n",
    "        print(myList[i+j], end=\" \")\n",
    "    print()"
   ]
  },
  {
   "cell_type": "markdown",
   "metadata": {},
   "source": [
    "***Question 15: Write a program in which you have a list that contains seven integers that can be 0 or 1. Find the first nonzero entry in the list and change it to a 1. If there are no nonzero entries, print a message saying so."
   ]
  },
  {
   "cell_type": "code",
   "execution_count": 10,
   "metadata": {},
   "outputs": [
    {
     "name": "stdout",
     "output_type": "stream",
     "text": [
      "There are no non-zero entry exists\n"
     ]
    }
   ],
   "source": [
    "myList = [0,0,0,1,0,0,1]\n",
    "k = True\n",
    "for x in myList:\n",
    "    if myList[x] != 0:\n",
    "        myList[x] = 1\n",
    "        k = False\n",
    "        print(myList)\n",
    "    break\n",
    "if k == True:\n",
    "    print(\"There are no non-zero entry exists\")"
   ]
  },
  {
   "cell_type": "markdown",
   "metadata": {},
   "source": [
    "***Question 16: Write a program to play the following simple game. The player starts with 100 dollars. On each turn a coin is flipped and the player has to guess heads or tails. The player wins 9 dollars for each correct guess and loses 10 dollars for each incorrect guess. The game ends either when the player runs out of money or gets to 200 dollars."
   ]
  },
  {
   "cell_type": "code",
   "execution_count": null,
   "metadata": {},
   "outputs": [],
   "source": [
    "import random\n",
    "player = 100\n",
    "\n",
    "while player > 0 and player < 200:\n",
    "    print(\"1. Head\\n2.Tail\")\n",
    "    x = int(input(\"Choose: \"))\n",
    "    if (random.randrange(10)+1)%2==0 and x == 2:\n",
    "        player+=9\n",
    "    else:\n",
    "        player-=10\n",
    "print (\"player has : \")\n",
    "print (player)"
   ]
  },
  {
   "cell_type": "markdown",
   "metadata": {},
   "source": [
    "***Question 17: Randomly generate a 6 × 6 list that has exactly 12 ones placed in random locations in the list. The rest of the entries should be zeroes."
   ]
  },
  {
   "cell_type": "code",
   "execution_count": 11,
   "metadata": {},
   "outputs": [
    {
     "name": "stdout",
     "output_type": "stream",
     "text": [
      "0 1 0 1 1 1 \n",
      "1 0 0 1 0 0 \n",
      "0 0 0 0 0 0 \n",
      "0 0 0 0 1 1 \n",
      "0 0 1 0 0 1 \n",
      "0 0 0 0 1 1 \n"
     ]
    }
   ],
   "source": [
    "import random\n",
    "positions = []\n",
    "\n",
    "for x in range(12):\n",
    "    randomNumber = random.randrange(36)\n",
    "    while positions.count(randomNumber) != 0:\n",
    "        randomNumber = random.randrange(36)\n",
    "    positions.append(randomNumber)\n",
    "    positions.sort()\n",
    "\n",
    "k = 0\n",
    "j = -1\n",
    "for x in range(6):\n",
    "    for y in range(6):\n",
    "        j+=1\n",
    "        if j == positions[k]:\n",
    "            print(\"1\", end=\" \")\n",
    "            k+=1\n",
    "            continue\n",
    "        print(\"0\", end=\" \")\n",
    "    print()\n"
   ]
  },
  {
   "cell_type": "markdown",
   "metadata": {},
   "source": [
    "***Question 18: Randomly generate a 9 × 9 list where the entries are integers between 1 and 9 with no repeat entries in any row or in any column."
   ]
  },
  {
   "cell_type": "code",
   "execution_count": 12,
   "metadata": {},
   "outputs": [
    {
     "name": "stdout",
     "output_type": "stream",
     "text": [
      "4 7 6 2 1 8 3 9 5 \n",
      "7 9 5 3 4 2 6 1 8 \n",
      "4 5 7 8 2 9 1 3 6 \n",
      "9 6 1 8 5 4 2 3 7 \n",
      "6 5 7 4 2 3 1 9 8 \n",
      "6 4 1 8 2 3 9 5 7 \n",
      "4 1 7 5 6 3 9 2 8 \n",
      "4 6 9 5 7 3 2 8 1 \n",
      "5 6 1 2 9 8 7 3 4 \n"
     ]
    }
   ],
   "source": [
    "import random\n",
    "positions = []\n",
    "\n",
    "for x in range(9):\n",
    "    for y in range(9):\n",
    "        f = random.randrange(9)+1\n",
    "        \n",
    "        while positions.count(f)!=0:\n",
    "            f = random.randrange(9)+1\n",
    "        positions.append(f)\n",
    "        print(f, end=\" \")\n",
    "        \n",
    "    positions.clear()\n",
    "    print()\n"
   ]
  },
  {
   "cell_type": "code",
   "execution_count": null,
   "metadata": {},
   "outputs": [],
   "source": []
  }
 ],
 "metadata": {
  "kernelspec": {
   "display_name": "Python 3",
   "language": "python",
   "name": "python3"
  },
  "language_info": {
   "codemirror_mode": {
    "name": "ipython",
    "version": 3
   },
   "file_extension": ".py",
   "mimetype": "text/x-python",
   "name": "python",
   "nbconvert_exporter": "python",
   "pygments_lexer": "ipython3",
   "version": "3.6.5"
  }
 },
 "nbformat": 4,
 "nbformat_minor": 2
}
