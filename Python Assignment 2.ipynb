{
 "cells": [
  {
   "cell_type": "markdown",
   "metadata": {},
   "source": [
    "### Python_Lecture_4 \n",
    "\n",
    "***Question 1: \n",
    "Write a program that repeatedly asks the user to enter product names and prices. Store all of these in a dictionary whose keys are the product names and whose values are the prices. When the user is done entering products and prices, allow them to repeatedly enter a product name and print the corresponding price or a message if the product is not in the dictionary***"
   ]
  },
  {
   "cell_type": "code",
   "execution_count": null,
   "metadata": {},
   "outputs": [],
   "source": [
    "stuff = {\n",
    "        \n",
    "    }\n",
    "while(True):\n",
    "    \n",
    "    x = input(\"Enter Product Name or press wq to exit\\n\")\n",
    "    if(x == \"wq\"):\n",
    "\t\t\n",
    "        break\n",
    "    else:\n",
    "        y = float(input(\"Enter product Price\\n\"))\n",
    "        stuff[x] = y\n",
    "\t\t\t\n",
    "while(True):\n",
    "\tz = input(\"Enter the product name you want to find or press wq to quit\\n\")\n",
    "\tif(z == \"wq\"):\n",
    "\t\n",
    "\t\tbreak\n",
    "\telse:\n",
    "\t\tif z in stuff:\n",
    "\t\t\tprint(z)\n",
    "\t\t\tprint(\"The price of \"+z+\" is \" +str(stuff[z]))\n",
    "\t\telse:\n",
    "\t\t\tprint(z+\" is not a product you entered\\n\")\n",
    "\t\t\n",
    "        \n"
   ]
  },
  {
   "cell_type": "markdown",
   "metadata": {},
   "source": [
    "***Question 2: \n",
    "Using the dictionary created in the previous problem, allow the user to enter a dollar amount and print out all the products whose price is less than that amount.***"
   ]
  },
  {
   "cell_type": "code",
   "execution_count": null,
   "metadata": {},
   "outputs": [],
   "source": [
    "stuff = {\n",
    "        \n",
    "    }\n",
    "while(True):\n",
    "    \n",
    "    x = input(\"Enter Product Name or press wq to exit\\n\")\n",
    "    if(x == \"wq\"):\n",
    "\t\t\n",
    "        break\n",
    "    else:\n",
    "        y = float(input(\"Enter product Price\\n\"))\n",
    "        stuff[x] = y\n",
    "\t\t\n",
    "\n",
    "\n",
    "while(True):\n",
    "\tz = input(\"Enter the price of the product  you want to find or press wq to quit\\n\")\n",
    "\tif(z == \"wq\"):\n",
    "\t\n",
    "\t\tbreak\n",
    "\telse:\n",
    "\t\tfor i in stuff:\n",
    "\t\t\tif(stuff[i]<float(z)):\n",
    "\t\t\t\tprint(\"\\nThe price of \"+i+\" is \"+ str(stuff[i])+\" Dollars\\n\")"
   ]
  },
  {
   "cell_type": "markdown",
   "metadata": {},
   "source": [
    "***Question 3: Write a program that uses a dictionary that contains ten user names and passwords. The program should ask the user to enter their username and password. If the username is not in the dictionary, the program should indicate that the person is not a valid user of the system. If the username is in the dictionary, but the user does not enter the right password, the program should say that the password is invalid. If the password is correct, then the program should tell the user that they are now logged in to the system.***"
   ]
  },
  {
   "cell_type": "code",
   "execution_count": null,
   "metadata": {},
   "outputs": [],
   "source": [
    "dataBase = {\n",
    "    'tonygms2@gmail.com':'abc1234',\n",
    "    'nicholas.gomes.cse@ulab.edu.bd':'abc213',\n",
    "    'jcholewa@live.com':'this is a password',\n",
    "    'iamcal@mac.com':'anotherPassword',\n",
    "    'multiplx@hotmail.com':'python',\n",
    "    'bmcmahon@icloud.com':'iphoneIsApple',\n",
    "    'jramio@yahoo.com':'yahoomailisdown',\n",
    "    'leakin@aol.com':'thisAssignmentSucks',\n",
    "    'meinkej@aol.com':'PythonRocks',\n",
    "    'cosimo@optonline.net':'semesterBreak'\n",
    "    \n",
    "    \n",
    "}\n",
    "\n",
    "email = input(\"Enter Your email\\n\")\n",
    "\n",
    "if email in dataBase:\n",
    "    password = input(\"Enter the password\\n\")\n",
    "    if password in dataBase[email]:\n",
    "        print(\"You are logged in to the system\\n\")\n",
    "    else:\n",
    "        print(\"Wrong Password\\n\")\n",
    "else:\n",
    "    print(\"The email is not in the system\\n\")\n",
    "\n",
    "\n"
   ]
  }
 ],
 "metadata": {
  "kernelspec": {
   "display_name": "Python 3",
   "language": "python",
   "name": "python3"
  },
  "language_info": {
   "codemirror_mode": {
    "name": "ipython",
    "version": 3
   },
   "file_extension": ".py",
   "mimetype": "text/x-python",
   "name": "python",
   "nbconvert_exporter": "python",
   "pygments_lexer": "ipython3",
   "version": "3.6.5"
  }
 },
 "nbformat": 4,
 "nbformat_minor": 2
}
